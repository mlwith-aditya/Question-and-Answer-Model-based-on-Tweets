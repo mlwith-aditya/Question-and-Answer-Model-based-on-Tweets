{
 "cells": [
  {
   "cell_type": "code",
   "execution_count": 1,
   "metadata": {},
   "outputs": [],
   "source": [
    "import pandas as pd\n",
    "import ktrain"
   ]
  },
  {
   "cell_type": "code",
   "execution_count": 2,
   "metadata": {},
   "outputs": [],
   "source": [
    "df = pd.read_csv(\"DATASETS/Uttarakhand/Uttarakhand.csv\")"
   ]
  },
  {
   "cell_type": "code",
   "execution_count": 3,
   "metadata": {},
   "outputs": [
    {
     "data": {
      "text/html": [
       "<div>\n",
       "<style scoped>\n",
       "    .dataframe tbody tr th:only-of-type {\n",
       "        vertical-align: middle;\n",
       "    }\n",
       "\n",
       "    .dataframe tbody tr th {\n",
       "        vertical-align: top;\n",
       "    }\n",
       "\n",
       "    .dataframe thead th {\n",
       "        text-align: right;\n",
       "    }\n",
       "</style>\n",
       "<table border=\"1\" class=\"dataframe\">\n",
       "  <thead>\n",
       "    <tr style=\"text-align: right;\">\n",
       "      <th></th>\n",
       "      <th>tweet</th>\n",
       "    </tr>\n",
       "  </thead>\n",
       "  <tbody>\n",
       "    <tr>\n",
       "      <th>0</th>\n",
       "      <td>Horrible news out of #Uttarakhand</td>\n",
       "    </tr>\n",
       "    <tr>\n",
       "      <th>1</th>\n",
       "      <td>Prayer for #Uttarakhand 🙏🙏</td>\n",
       "    </tr>\n",
       "    <tr>\n",
       "      <th>2</th>\n",
       "      <td>Ohhh God Please Save #Uttarakhand</td>\n",
       "    </tr>\n",
       "    <tr>\n",
       "      <th>3</th>\n",
       "      <td>Extremely Sad To Hear About The #Uttarakhand G...</td>\n",
       "    </tr>\n",
       "    <tr>\n",
       "      <th>4</th>\n",
       "      <td>Prayers for #Uttarakhand 🙏🙏</td>\n",
       "    </tr>\n",
       "    <tr>\n",
       "      <th>...</th>\n",
       "      <td>...</td>\n",
       "    </tr>\n",
       "    <tr>\n",
       "      <th>8141</th>\n",
       "      <td>😊\\n\\nHope everyone is fine, Prayers 🙏\\n#Uttara...</td>\n",
       "    </tr>\n",
       "    <tr>\n",
       "      <th>8142</th>\n",
       "      <td>What a responsible PM would do in this Situati...</td>\n",
       "    </tr>\n",
       "    <tr>\n",
       "      <th>8143</th>\n",
       "      <td>Scary scenes coming from #Uttarakhand \\n\\nPray...</td>\n",
       "    </tr>\n",
       "    <tr>\n",
       "      <th>8144</th>\n",
       "      <td>ITBP jawans in search and rescue operation in ...</td>\n",
       "    </tr>\n",
       "    <tr>\n",
       "      <th>8145</th>\n",
       "      <td>Sorry guys, I will not be able to tweet today,...</td>\n",
       "    </tr>\n",
       "  </tbody>\n",
       "</table>\n",
       "<p>8146 rows × 1 columns</p>\n",
       "</div>"
      ],
      "text/plain": [
       "                                                  tweet\n",
       "0                     Horrible news out of #Uttarakhand\n",
       "1                            Prayer for #Uttarakhand 🙏🙏\n",
       "2                     Ohhh God Please Save #Uttarakhand\n",
       "3     Extremely Sad To Hear About The #Uttarakhand G...\n",
       "4                           Prayers for #Uttarakhand 🙏🙏\n",
       "...                                                 ...\n",
       "8141  😊\\n\\nHope everyone is fine, Prayers 🙏\\n#Uttara...\n",
       "8142  What a responsible PM would do in this Situati...\n",
       "8143  Scary scenes coming from #Uttarakhand \\n\\nPray...\n",
       "8144  ITBP jawans in search and rescue operation in ...\n",
       "8145  Sorry guys, I will not be able to tweet today,...\n",
       "\n",
       "[8146 rows x 1 columns]"
      ]
     },
     "execution_count": 3,
     "metadata": {},
     "output_type": "execute_result"
    }
   ],
   "source": [
    "df"
   ]
  },
  {
   "cell_type": "code",
   "execution_count": 4,
   "metadata": {},
   "outputs": [
    {
     "data": {
      "text/html": [],
      "text/plain": [
       "<IPython.core.display.HTML object>"
      ]
     },
     "metadata": {},
     "output_type": "display_data"
    }
   ],
   "source": [
    "data = list(df['tweet']) \n",
    "from ktrain import text  \n",
    "INDEXDIR = \"DATASETS/word\"  \n",
    "text.SimpleQA.initialize_index(INDEXDIR)\n",
    "text.SimpleQA.index_from_list(data,INDEXDIR,commit_every=len(data))\n",
    "qa = text.SimpleQA(INDEXDIR)"
   ]
  },
  {
   "cell_type": "code",
   "execution_count": 5,
   "metadata": {},
   "outputs": [
    {
     "data": {
      "text/html": [],
      "text/plain": [
       "<IPython.core.display.HTML object>"
      ]
     },
     "metadata": {},
     "output_type": "display_data"
    },
    {
     "data": {
      "text/html": [
       "<table border=\"1\" class=\"dataframe\">\n",
       "  <thead>\n",
       "    <tr style=\"text-align: right;\">\n",
       "      <th></th>\n",
       "      <th>Candidate Answer</th>\n",
       "      <th>Context</th>\n",
       "      <th>Confidence</th>\n",
       "      <th>Document Reference</th>\n",
       "    </tr>\n",
       "  </thead>\n",
       "  <tbody>\n",
       "    <tr>\n",
       "      <th>0</th>\n",
       "      <td>\" # uttarakhand</td>\n",
       "      <td><div>\" if you are stuck in the affected please contact disaster operations center number 1070 or 9557444486  <font color='red'>\" # uttarakhand</font>  # helpline # breaking</div></td>\n",
       "      <td>0.346137</td>\n",
       "      <td>3496</td>\n",
       "    </tr>\n",
       "    <tr>\n",
       "      <th>1</th>\n",
       "      <td>1070</td>\n",
       "      <td><div>  <font color='red'>1070</font>  for # chamoli # uttarakhand @ ndrfhq @ amit shah @ tsrawatbjp</div></td>\n",
       "      <td>0.229448</td>\n",
       "      <td>4136</td>\n",
       "    </tr>\n",
       "    <tr>\n",
       "      <th>2</th>\n",
       "      <td>[UNK] 1070,9557444486</td>\n",
       "      <td><div>  <font color='red'>[UNK] 1070,9557444486</font>  for # chamoli # uttarakhand # prayer # roseday</div></td>\n",
       "      <td>0.170068</td>\n",
       "      <td>3865</td>\n",
       "    </tr>\n",
       "    <tr>\n",
       "      <th>3</th>\n",
       "      <td>1070</td>\n",
       "      <td><div>  <font color='red'>1070</font> ,9557444486 for # chamoli # uttarakhand</div></td>\n",
       "      <td>0.156979</td>\n",
       "      <td>203</td>\n",
       "    </tr>\n",
       "    <tr>\n",
       "      <th>4</th>\n",
       "      <td>1070</td>\n",
       "      <td><div>  <font color='red'>1070</font> ,9557444486 for # chamoli # uttarakhand # chamoli pray for # uttarakhand https : / / t.</div></td>\n",
       "      <td>0.076506</td>\n",
       "      <td>4551</td>\n",
       "    </tr>\n",
       "  </tbody>\n",
       "</table>"
      ],
      "text/plain": [
       "<IPython.core.display.HTML object>"
      ]
     },
     "metadata": {},
     "output_type": "display_data"
    }
   ],
   "source": [
    "answers = qa.ask('What is the helpline number?')\n",
    "qa.display_answers(answers[:5])"
   ]
  },
  {
   "cell_type": "code",
   "execution_count": 6,
   "metadata": {},
   "outputs": [
    {
     "data": {
      "text/html": [],
      "text/plain": [
       "<IPython.core.display.HTML object>"
      ]
     },
     "metadata": {},
     "output_type": "display_data"
    },
    {
     "data": {
      "text/html": [
       "<table border=\"1\" class=\"dataframe\">\n",
       "  <thead>\n",
       "    <tr style=\"text-align: right;\">\n",
       "      <th></th>\n",
       "      <th>Candidate Answer</th>\n",
       "      <th>Context</th>\n",
       "      <th>Confidence</th>\n",
       "      <th>Document Reference</th>\n",
       "    </tr>\n",
       "  </thead>\n",
       "  <tbody>\n",
       "    <tr>\n",
       "      <th>0</th>\n",
       "      <td>is very unfortunate</td>\n",
       "      <td><div>what happened in # uttarakhand  <font color='red'>is very unfortunate</font> .</div></td>\n",
       "      <td>0.602711</td>\n",
       "      <td>1555</td>\n",
       "    </tr>\n",
       "    <tr>\n",
       "      <th>1</th>\n",
       "      <td>the tragedy</td>\n",
       "      <td><div>extremely sad to hear about  <font color='red'>the tragedy</font>  happened in # uttarakhand.</div></td>\n",
       "      <td>0.347648</td>\n",
       "      <td>7304</td>\n",
       "    </tr>\n",
       "    <tr>\n",
       "      <th>2</th>\n",
       "      <td>? horror visual</td>\n",
       "      <td><div>what just happened  <font color='red'>? horror visual</font>  in chamoli, uttarakhand [UNK] # chamoli # uttarakhand # nature # naturaldisasters … https : / / t.</div></td>\n",
       "      <td>0.021120</td>\n",
       "      <td>2587</td>\n",
       "    </tr>\n",
       "    <tr>\n",
       "      <th>3</th>\n",
       "      <td>and accident happened due to glacier break</td>\n",
       "      <td><div>prayers for # uttarakh <font color='red'>and accident happened due to glacier break</font> .</div></td>\n",
       "      <td>0.021063</td>\n",
       "      <td>4991</td>\n",
       "    </tr>\n",
       "    <tr>\n",
       "      <th>4</th>\n",
       "      <td>of ignoring the environmental issues</td>\n",
       "      <td><div>what happened in # uttarakhand, is it because  <font color='red'>of ignoring the environmental issues</font>  at local, state, national and int … https : / / t.</div></td>\n",
       "      <td>0.002482</td>\n",
       "      <td>7645</td>\n",
       "    </tr>\n",
       "  </tbody>\n",
       "</table>"
      ],
      "text/plain": [
       "<IPython.core.display.HTML object>"
      ]
     },
     "metadata": {},
     "output_type": "display_data"
    }
   ],
   "source": [
    "answers = qa.ask('What happened in Uttarakhand?')\n",
    "qa.display_answers(answers[:5])"
   ]
  },
  {
   "cell_type": "code",
   "execution_count": 7,
   "metadata": {},
   "outputs": [
    {
     "data": {
      "text/html": [],
      "text/plain": [
       "<IPython.core.display.HTML object>"
      ]
     },
     "metadata": {},
     "output_type": "display_data"
    },
    {
     "data": {
      "text/html": [
       "<table border=\"1\" class=\"dataframe\">\n",
       "  <thead>\n",
       "    <tr style=\"text-align: right;\">\n",
       "      <th></th>\n",
       "      <th>Candidate Answer</th>\n",
       "      <th>Context</th>\n",
       "      <th>Confidence</th>\n",
       "      <th>Document Reference</th>\n",
       "    </tr>\n",
       "  </thead>\n",
       "  <tbody>\n",
       "    <tr>\n",
       "      <th>0</th>\n",
       "      <td>many people have been unfortunately washed away</td>\n",
       "      <td><div>there is news that it is feared,  <font color='red'>many people have been unfortunately washed away</font> .</div></td>\n",
       "      <td>0.760345</td>\n",
       "      <td>4862</td>\n",
       "    </tr>\n",
       "    <tr>\n",
       "      <th>1</th>\n",
       "      <td># uttarakhand</td>\n",
       "      <td><div>my heart goes out for the people who suffered from the flood caused by glacier at  <font color='red'># uttarakhand</font> .</div></td>\n",
       "      <td>0.199773</td>\n",
       "      <td>2083</td>\n",
       "    </tr>\n",
       "    <tr>\n",
       "      <th>2</th>\n",
       "      <td>and many people are missing</td>\n",
       "      <td><div>a scary tragedy have taken place in # chamoli of # uttarakh <font color='red'>and many people are missing</font> , prayers for them and their f … https : / / t.</div></td>\n",
       "      <td>0.038797</td>\n",
       "      <td>3144</td>\n",
       "    </tr>\n",
       "    <tr>\n",
       "      <th>3</th>\n",
       "      <td># uttarakhand</td>\n",
       "      <td><div>prayers for my beloved land !  <font color='red'># uttarakhand</font> .</div></td>\n",
       "      <td>0.000484</td>\n",
       "      <td>3134</td>\n",
       "    </tr>\n",
       "    <tr>\n",
       "      <th>4</th>\n",
       "      <td>but many people are missing</td>\n",
       "      <td><div>now, the water level is normal,  <font color='red'>but many people are missing</font> .</div></td>\n",
       "      <td>0.000438</td>\n",
       "      <td>3186</td>\n",
       "    </tr>\n",
       "  </tbody>\n",
       "</table>"
      ],
      "text/plain": [
       "<IPython.core.display.HTML object>"
      ]
     },
     "metadata": {},
     "output_type": "display_data"
    }
   ],
   "source": [
    "answers = qa.ask('How many people are affected?')\n",
    "qa.display_answers(answers[:5])"
   ]
  },
  {
   "cell_type": "code",
   "execution_count": null,
   "metadata": {},
   "outputs": [],
   "source": []
  }
 ],
 "metadata": {
  "kernelspec": {
   "display_name": "Python 3",
   "language": "python",
   "name": "python3"
  },
  "language_info": {
   "codemirror_mode": {
    "name": "ipython",
    "version": 3
   },
   "file_extension": ".py",
   "mimetype": "text/x-python",
   "name": "python",
   "nbconvert_exporter": "python",
   "pygments_lexer": "ipython3",
   "version": "3.8.5"
  }
 },
 "nbformat": 4,
 "nbformat_minor": 4
}
